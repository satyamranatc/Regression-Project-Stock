{
 "cells": [
  {
   "cell_type": "code",
   "execution_count": null,
   "id": "c15d30fb",
   "metadata": {},
   "outputs": [
    {
     "name": "stdout",
     "output_type": "stream",
     "text": [
      "                         Open      High       Low     Close Volume\n",
      "2025-04-15 19:50:00  239.0400  239.0400  239.0100  239.0100     50\n",
      "2025-04-15 19:45:00  238.3700  238.3700  238.3700  238.3700      2\n",
      "2025-04-15 19:40:00  239.8800  239.8900  239.8700  239.8700    117\n",
      "2025-04-15 19:30:00  239.8700  239.8800  238.5657  238.5657     55\n",
      "2025-04-15 19:25:00  238.3700  238.3700  238.3700  238.3700     91\n",
      "...                       ...       ...       ...       ...    ...\n",
      "2025-04-15 11:15:00  240.1046  240.4400  240.0500  240.1150  13838\n",
      "2025-04-15 11:10:00  240.1900  240.3400  239.9500  240.1692  16798\n",
      "2025-04-15 11:05:00  240.8520  240.8520  240.1300  240.2225  16879\n",
      "2025-04-15 11:00:00  240.3100  240.8500  240.2300  240.7900  21543\n",
      "2025-04-15 10:55:00  240.5000  240.6800  240.3000  240.3200  27296\n",
      "\n",
      "[100 rows x 5 columns]\n"
     ]
    }
   ],
   "source": [
    "import requests\n",
    "import pandas as pd\n",
    "\n",
    "# API URL\n",
    "url = \"https://www.alphavantage.co/query?function=TIME_SERIES_INTRADAY&symbol=IBM&interval=5min&apikey=O6DMM9OMXYOG6E9V&#39;\"\n",
    "\n",
    "# Get the data\n",
    "r = requests.get(url)\n",
    "data = r.json()\n",
    "\n",
    "# Extract the time series data\n",
    "time_series = data[\"Time Series (5min)\"]\n",
    "time_series\n",
    "\n",
    "# Convert to DataFrame\n",
    "df = pd.DataFrame.from_dict(time_series, orient='index')\n",
    "\n",
    "# Optional: Rename columns for better readability\n",
    "df.columns = [\"Open\", \"High\", \"Low\", \"Close\", \"Volume\"]\n",
    "\n",
    "# Convert the index to datetime format\n",
    "# df.index = pd.to_datetime(df.index)\n",
    "\n",
    "# Sort the data by datetime (ascending)\n",
    "# df = df.sort_index()\n",
    "\n",
    "# Display the DataFrame\n",
    "print(df)"
   ]
  },
  {
   "cell_type": "code",
   "execution_count": null,
   "id": "bbf390cf",
   "metadata": {},
   "outputs": [],
   "source": []
  },
  {
   "cell_type": "code",
   "execution_count": null,
   "id": "b73a5474",
   "metadata": {},
   "outputs": [],
   "source": []
  },
  {
   "cell_type": "code",
   "execution_count": null,
   "id": "9cbcbd38",
   "metadata": {},
   "outputs": [],
   "source": []
  },
  {
   "cell_type": "code",
   "execution_count": null,
   "id": "3a85520e",
   "metadata": {},
   "outputs": [],
   "source": []
  },
  {
   "cell_type": "code",
   "execution_count": null,
   "id": "330908e5",
   "metadata": {},
   "outputs": [],
   "source": []
  },
  {
   "cell_type": "code",
   "execution_count": null,
   "id": "d998f7bf",
   "metadata": {},
   "outputs": [],
   "source": []
  },
  {
   "cell_type": "code",
   "execution_count": null,
   "id": "f31d90a4",
   "metadata": {},
   "outputs": [],
   "source": []
  },
  {
   "cell_type": "code",
   "execution_count": null,
   "id": "cac89e05",
   "metadata": {},
   "outputs": [],
   "source": []
  },
  {
   "cell_type": "code",
   "execution_count": null,
   "id": "94c1dcf5",
   "metadata": {},
   "outputs": [],
   "source": []
  },
  {
   "cell_type": "code",
   "execution_count": null,
   "id": "47be8da9",
   "metadata": {},
   "outputs": [],
   "source": []
  },
  {
   "cell_type": "code",
   "execution_count": null,
   "id": "5b43b086",
   "metadata": {},
   "outputs": [],
   "source": []
  },
  {
   "cell_type": "code",
   "execution_count": null,
   "id": "6dfa2b9a",
   "metadata": {},
   "outputs": [],
   "source": []
  },
  {
   "cell_type": "code",
   "execution_count": null,
   "id": "8c6b377a",
   "metadata": {},
   "outputs": [],
   "source": []
  },
  {
   "cell_type": "code",
   "execution_count": null,
   "id": "d1960d58",
   "metadata": {},
   "outputs": [],
   "source": []
  },
  {
   "cell_type": "code",
   "execution_count": null,
   "id": "a07a2acd",
   "metadata": {},
   "outputs": [],
   "source": []
  },
  {
   "cell_type": "code",
   "execution_count": null,
   "id": "c0bef468",
   "metadata": {},
   "outputs": [],
   "source": []
  }
 ],
 "metadata": {
  "kernelspec": {
   "display_name": ".venv",
   "language": "python",
   "name": "python3"
  },
  "language_info": {
   "codemirror_mode": {
    "name": "ipython",
    "version": 3
   },
   "file_extension": ".py",
   "mimetype": "text/x-python",
   "name": "python",
   "nbconvert_exporter": "python",
   "pygments_lexer": "ipython3",
   "version": "3.13.3"
  }
 },
 "nbformat": 4,
 "nbformat_minor": 5
}
